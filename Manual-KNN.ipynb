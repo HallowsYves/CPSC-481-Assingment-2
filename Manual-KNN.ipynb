{
 "cells": [
  {
   "cell_type": "code",
   "execution_count": null,
   "id": "ddc8e3a2-c4a6-4c3b-90ba-670a70a77ff7",
   "metadata": {},
   "outputs": [],
   "source": [
    "import math\n",
    "from collections import Counter\n",
    "\n",
    "class KNearest:\n",
    "    def __init__(self, k:int,):\n",
    "        if k < 1:\n",
    "            raise ValueError(\"K must be >= 1\")\n",
    "        self.k = k\n",
    "        self.X_train = None\n",
    "        self.y_train = None\n",
    "\n",
    "    def fit(self, X, y):\n",
    "        # Keep Values for X & Y\n",
    "        if len(X) != len(y):\n",
    "            raise ValueError(\"X and Y must have the same length\")\n",
    "        if len(X) < self.k:\n",
    "            raise ValueError(\"k cannot be larger than number of training samples\")\n",
    "        self.X_train = X\n",
    "        self.y_train = y\n",
    "    \n",
    "    def predict(self, x):\n",
    "        return [self._predictSingle(x) for x in x]\n",
    "    \n",
    "    def _predictSingle(self, x):\n",
    "        # Compute Distances\n",
    "        distances = [(math.dist(x, xtr), ytr) for xtr, ytr in zip(self.X_train, self.y_train)]\n",
    "        distances.sort(key=lambda t: t[0])\n",
    "\n",
    "        # Get closest K \n",
    "        k_labels = [y for _, y in distances[:self.k]]\n",
    "\n",
    "        # Get Majority Vote\n",
    "        counts = Counter(k_labels)\n",
    "        max_count = max(counts.values())\n",
    "        ties = [label for label, count in counts.items() if count == max_count]\n",
    "\n",
    "        if len(ties) == 1:\n",
    "            return ties[0]\n",
    "\n",
    "        for _,y in distances:\n",
    "            if y in ties:\n",
    "                return y"
   ]
  }
 ],
 "metadata": {
  "kernelspec": {
   "display_name": "Python 3 (ipykernel)",
   "language": "python",
   "name": "python3"
  },
  "language_info": {
   "codemirror_mode": {
    "name": "ipython",
    "version": 3
   },
   "file_extension": ".py",
   "mimetype": "text/x-python",
   "name": "python",
   "nbconvert_exporter": "python",
   "pygments_lexer": "ipython3",
   "version": "3.11.7"
  }
 },
 "nbformat": 4,
 "nbformat_minor": 5
}
